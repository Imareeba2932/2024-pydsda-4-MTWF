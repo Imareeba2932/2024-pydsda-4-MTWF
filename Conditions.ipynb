{
 "cells": [
  {
   "cell_type": "code",
   "execution_count": 4,
   "metadata": {},
   "outputs": [],
   "source": [
    "marks = int(input(\"Enter a number: \"))\n",
    "if marks <= 90:\n",
    "    print(\"A+\")\n",
    "if marks <= 70:\n",
    "    print(\"A\")\n",
    "if marks <= 60:\n",
    "    print(\"B\")\n",
    "if marks <60:\n",
    "    print(\"Fail\")"
   ]
  },
  {
   "cell_type": "code",
   "execution_count": 2,
   "metadata": {},
   "outputs": [
    {
     "name": "stdout",
     "output_type": "stream",
     "text": [
      "A\n"
     ]
    }
   ],
   "source": [
    "marks = int(input(\"Enter a number: \"))\n",
    "if marks >= 90:\n",
    "    print(\"A+\")\n",
    "elif marks >= 70:\n",
    "    print(\"A\")\n",
    "elif marks >= 60:\n",
    "    print(\"B\")\n",
    "elif marks <60:\n",
    "    print(\"Fail\")\n",
    "else:\n",
    "    print(\"Invalid input\")"
   ]
  },
  {
   "cell_type": "code",
   "execution_count": null,
   "metadata": {},
   "outputs": [],
   "source": [
    "age = 20\n",
    "if age >= 18:\n",
    "    print(\"You are eligible to vote\")\n",
    "else:\n",
    "    print(\"You are not eligible to vote\")"
   ]
  },
  {
   "cell_type": "code",
   "execution_count": 7,
   "metadata": {},
   "outputs": [
    {
     "name": "stdout",
     "output_type": "stream",
     "text": [
      "Vowel\n"
     ]
    }
   ],
   "source": [
    "#enter a character by user and check if it is a vowel or consonant\n",
    "char = input(\"Enter a character: \")\n",
    "if char in \"aeiou\":\n",
    "    print(\"Vowel\")\n",
    "else:\n",
    "    print(\"Consonant\")"
   ]
  },
  {
   "cell_type": "markdown",
   "metadata": {},
   "source": [
    "- to check whether a number is positive or not\n",
    "- to check whether a number is even or odd\n",
    "- to check whether two sides of a rectangle is equal or not\n",
    "- to check whether a triangle is an equilateral, iscoseles or obselet triangle\n",
    "- to check whether a year is leap year or not\n",
    "- calculate the net salary of an employee where basic salary(bs) is 50,000, TDA is 10% of bs and hra is 5% of bs. Print the message accordingly\n",
    "- Caluclate an area of a circle"
   ]
  },
  {
   "cell_type": "code",
   "execution_count": null,
   "metadata": {},
   "outputs": [],
   "source": []
  }
 ],
 "metadata": {
  "kernelspec": {
   "display_name": "base",
   "language": "python",
   "name": "python3"
  },
  "language_info": {
   "codemirror_mode": {
    "name": "ipython",
    "version": 3
   },
   "file_extension": ".py",
   "mimetype": "text/x-python",
   "name": "python",
   "nbconvert_exporter": "python",
   "pygments_lexer": "ipython3",
   "version": "3.12.3"
  }
 },
 "nbformat": 4,
 "nbformat_minor": 2
}
